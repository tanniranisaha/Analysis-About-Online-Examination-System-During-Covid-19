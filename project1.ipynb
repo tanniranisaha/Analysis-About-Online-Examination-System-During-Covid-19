{
  "nbformat": 4,
  "nbformat_minor": 0,
  "metadata": {
    "colab": {
      "provenance": []
    },
    "kernelspec": {
      "name": "python3",
      "display_name": "Python 3"
    },
    "language_info": {
      "name": "python"
    }
  },
  "cells": [
    {
      "cell_type": "code",
      "metadata": {
        "colab": {
          "base_uri": "https://localhost:8080/"
        },
        "id": "lX_4hTUmfAb5",
        "outputId": "cb20fe57-d892-4201-e0fc-4cac5183c1a0"
      },
      "source": [
        "from google.colab import drive\n",
        "drive.mount('/content/drive')"
      ],
      "execution_count": null,
      "outputs": [
        {
          "output_type": "stream",
          "name": "stdout",
          "text": [
            "Drive already mounted at /content/drive; to attempt to forcibly remount, call drive.mount(\"/content/drive\", force_remount=True).\n"
          ]
        }
      ]
    },
    {
      "cell_type": "code",
      "metadata": {
        "id": "eukcuYvSuSG8"
      },
      "source": [
        "import pandas as pd"
      ],
      "execution_count": null,
      "outputs": []
    },
    {
      "cell_type": "code",
      "metadata": {
        "id": "Hf-4wK-svxPG"
      },
      "source": [
        "import pandas as pd\n",
        "from matplotlib import pyplot as plt"
      ],
      "execution_count": null,
      "outputs": []
    },
    {
      "cell_type": "code",
      "metadata": {
        "id": "GTeAN1JTv8NE"
      },
      "source": [
        "ds=pd.read_csv('/content/drive/MyDrive/DM project/Online Examination (Responses) - 1.csv')"
      ],
      "execution_count": null,
      "outputs": []
    },
    {
      "cell_type": "code",
      "metadata": {
        "colab": {
          "base_uri": "https://localhost:8080/",
          "height": 657
        },
        "id": "vc1ZXxlnwDVL",
        "outputId": "9d2d219b-0703-490a-8354-48cd1a7eae3f"
      },
      "source": [
        "ds"
      ],
      "execution_count": null,
      "outputs": [
        {
          "output_type": "execute_result",
          "data": {
            "text/html": [
              "<div>\n",
              "<style scoped>\n",
              "    .dataframe tbody tr th:only-of-type {\n",
              "        vertical-align: middle;\n",
              "    }\n",
              "\n",
              "    .dataframe tbody tr th {\n",
              "        vertical-align: top;\n",
              "    }\n",
              "\n",
              "    .dataframe thead th {\n",
              "        text-align: right;\n",
              "    }\n",
              "</style>\n",
              "<table border=\"1\" class=\"dataframe\">\n",
              "  <thead>\n",
              "    <tr style=\"text-align: right;\">\n",
              "      <th></th>\n",
              "      <th>Name</th>\n",
              "      <th>Your Email id</th>\n",
              "      <th>Age</th>\n",
              "      <th>Gender</th>\n",
              "      <th>Education level</th>\n",
              "      <th>Are you accustomed to online exams?</th>\n",
              "      <th>How much do you understand online exam?</th>\n",
              "      <th>How satisfied are you with the online exam?</th>\n",
              "      <th>How much online exam is increasing your knowledge?</th>\n",
              "      <th>Your exam experience after Covid-19</th>\n",
              "    </tr>\n",
              "  </thead>\n",
              "  <tbody>\n",
              "    <tr>\n",
              "      <th>0</th>\n",
              "      <td>Tonny Saha</td>\n",
              "      <td>tonnyranisaha1@gmail.com</td>\n",
              "      <td>21</td>\n",
              "      <td>Female</td>\n",
              "      <td>Under Graduate</td>\n",
              "      <td>Yes</td>\n",
              "      <td>50%-90%</td>\n",
              "      <td>60%-90%</td>\n",
              "      <td>Too much</td>\n",
              "      <td>Much more experience</td>\n",
              "    </tr>\n",
              "    <tr>\n",
              "      <th>1</th>\n",
              "      <td>Shahajada hasib</td>\n",
              "      <td>shahajadahasib@gmail.com</td>\n",
              "      <td>23</td>\n",
              "      <td>Male</td>\n",
              "      <td>Under Graduate</td>\n",
              "      <td>Yes</td>\n",
              "      <td>100%</td>\n",
              "      <td>10%-30%</td>\n",
              "      <td>Not so much</td>\n",
              "      <td>The online exam experience was not beneficial ...</td>\n",
              "    </tr>\n",
              "    <tr>\n",
              "      <th>2</th>\n",
              "      <td>Md Arafuzzaman</td>\n",
              "      <td>arafuzzaman@gmail.com</td>\n",
              "      <td>25</td>\n",
              "      <td>Male</td>\n",
              "      <td>Under Graduate</td>\n",
              "      <td>Yes</td>\n",
              "      <td>50%-90%</td>\n",
              "      <td>60%-90%</td>\n",
              "      <td>50%</td>\n",
              "      <td>40%</td>\n",
              "    </tr>\n",
              "    <tr>\n",
              "      <th>3</th>\n",
              "      <td>Khalida</td>\n",
              "      <td>Khalidatasneem01@gmail.com</td>\n",
              "      <td>21</td>\n",
              "      <td>Female</td>\n",
              "      <td>Under Graduate</td>\n",
              "      <td>Yes</td>\n",
              "      <td>100%</td>\n",
              "      <td>60%-90%</td>\n",
              "      <td>70%</td>\n",
              "      <td>As a Private university Student its Normal</td>\n",
              "    </tr>\n",
              "    <tr>\n",
              "      <th>4</th>\n",
              "      <td>Afrin Jahan Etu</td>\n",
              "      <td>afrinjahanetu66@gmail.com</td>\n",
              "      <td>21</td>\n",
              "      <td>Female</td>\n",
              "      <td>Under Graduate</td>\n",
              "      <td>Yes</td>\n",
              "      <td>50%-90%</td>\n",
              "      <td>10%-30%</td>\n",
              "      <td>Not so much</td>\n",
              "      <td>So bad</td>\n",
              "    </tr>\n",
              "    <tr>\n",
              "      <th>...</th>\n",
              "      <td>...</td>\n",
              "      <td>...</td>\n",
              "      <td>...</td>\n",
              "      <td>...</td>\n",
              "      <td>...</td>\n",
              "      <td>...</td>\n",
              "      <td>...</td>\n",
              "      <td>...</td>\n",
              "      <td>...</td>\n",
              "      <td>...</td>\n",
              "    </tr>\n",
              "    <tr>\n",
              "      <th>304</th>\n",
              "      <td>Asif Islam</td>\n",
              "      <td>asif1@gmail.com</td>\n",
              "      <td>23</td>\n",
              "      <td>Male</td>\n",
              "      <td>Under Graduate</td>\n",
              "      <td>Yes</td>\n",
              "      <td>50%-90%</td>\n",
              "      <td>60%-90%</td>\n",
              "      <td>Too much</td>\n",
              "      <td>Too much</td>\n",
              "    </tr>\n",
              "    <tr>\n",
              "      <th>305</th>\n",
              "      <td>Afrin Knta</td>\n",
              "      <td>kanta21@gmail.com</td>\n",
              "      <td>22</td>\n",
              "      <td>Female</td>\n",
              "      <td>Under Graduate</td>\n",
              "      <td>Yes</td>\n",
              "      <td>10%-50%</td>\n",
              "      <td>10%-30%</td>\n",
              "      <td>Not so much</td>\n",
              "      <td>Bad</td>\n",
              "    </tr>\n",
              "    <tr>\n",
              "      <th>306</th>\n",
              "      <td>Swapan Kumar</td>\n",
              "      <td>kumar123@gmail.com</td>\n",
              "      <td>21</td>\n",
              "      <td>Male</td>\n",
              "      <td>Under Graduate</td>\n",
              "      <td>Yes</td>\n",
              "      <td>10%-50%</td>\n",
              "      <td>30%-60%</td>\n",
              "      <td>Good Enough</td>\n",
              "      <td>Good</td>\n",
              "    </tr>\n",
              "    <tr>\n",
              "      <th>307</th>\n",
              "      <td>Nirmal biswas</td>\n",
              "      <td>nirmal01@gmail.com</td>\n",
              "      <td>21</td>\n",
              "      <td>Male</td>\n",
              "      <td>Under Graduate</td>\n",
              "      <td>Yes</td>\n",
              "      <td>50%-90%</td>\n",
              "      <td>60%-90%</td>\n",
              "      <td>Good Enough</td>\n",
              "      <td>Good Enough</td>\n",
              "    </tr>\n",
              "    <tr>\n",
              "      <th>308</th>\n",
              "      <td>Nasrin Popy</td>\n",
              "      <td>NasrinPopy1@gmail.com</td>\n",
              "      <td>20</td>\n",
              "      <td>Female</td>\n",
              "      <td>Under Graduate</td>\n",
              "      <td>No</td>\n",
              "      <td>10%-50%</td>\n",
              "      <td>10%-30%</td>\n",
              "      <td>Not so much</td>\n",
              "      <td>Bad</td>\n",
              "    </tr>\n",
              "  </tbody>\n",
              "</table>\n",
              "<p>309 rows × 10 columns</p>\n",
              "</div>"
            ],
            "text/plain": [
              "                Name  ...                Your exam experience after Covid-19\n",
              "0         Tonny Saha  ...                              Much more experience \n",
              "1    Shahajada hasib  ...  The online exam experience was not beneficial ...\n",
              "2     Md Arafuzzaman  ...                                                40%\n",
              "3           Khalida   ...        As a Private university Student its Normal \n",
              "4    Afrin Jahan Etu  ...                                             So bad\n",
              "..               ...  ...                                                ...\n",
              "304       Asif Islam  ...                                           Too much\n",
              "305       Afrin Knta  ...                                                Bad\n",
              "306     Swapan Kumar  ...                                              Good \n",
              "307    Nirmal biswas  ...                                        Good Enough\n",
              "308      Nasrin Popy  ...                                                Bad\n",
              "\n",
              "[309 rows x 10 columns]"
            ]
          },
          "metadata": {},
          "execution_count": 5
        }
      ]
    },
    {
      "cell_type": "code",
      "metadata": {
        "colab": {
          "base_uri": "https://localhost:8080/"
        },
        "id": "om3dF1UGwOI0",
        "outputId": "b36c4c87-eacb-4bf9-ee97-175c221b7623"
      },
      "source": [
        "ds.head"
      ],
      "execution_count": null,
      "outputs": [
        {
          "output_type": "execute_result",
          "data": {
            "text/plain": [
              "<bound method NDFrame.head of                 Name  ...                Your exam experience after Covid-19\n",
              "0         Tonny Saha  ...                              Much more experience \n",
              "1    Shahajada hasib  ...  The online exam experience was not beneficial ...\n",
              "2     Md Arafuzzaman  ...                                                40%\n",
              "3           Khalida   ...        As a Private university Student its Normal \n",
              "4    Afrin Jahan Etu  ...                                             So bad\n",
              "..               ...  ...                                                ...\n",
              "304       Asif Islam  ...                                           Too much\n",
              "305       Afrin Knta  ...                                                Bad\n",
              "306     Swapan Kumar  ...                                              Good \n",
              "307    Nirmal biswas  ...                                        Good Enough\n",
              "308      Nasrin Popy  ...                                                Bad\n",
              "\n",
              "[309 rows x 10 columns]>"
            ]
          },
          "metadata": {},
          "execution_count": 6
        }
      ]
    },
    {
      "cell_type": "code",
      "metadata": {
        "colab": {
          "base_uri": "https://localhost:8080/"
        },
        "id": "O3mgqNRI0o_V",
        "outputId": "3fbae2ba-c690-44eb-f122-91651c35ee28"
      },
      "source": [
        "ds.dtypes"
      ],
      "execution_count": null,
      "outputs": [
        {
          "output_type": "execute_result",
          "data": {
            "text/plain": [
              "Name                                                  object\n",
              "Your Email id                                         object\n",
              "Age                                                   object\n",
              "Gender                                                object\n",
              "Education level                                       object\n",
              "Are you accustomed to online exams?                   object\n",
              "How much do you understand online exam?               object\n",
              "How satisfied are you with the online exam?           object\n",
              "How much online exam is increasing your knowledge?    object\n",
              "Your exam experience after Covid-19                   object\n",
              "dtype: object"
            ]
          },
          "metadata": {},
          "execution_count": 7
        }
      ]
    },
    {
      "cell_type": "code",
      "metadata": {
        "colab": {
          "base_uri": "https://localhost:8080/",
          "height": 224
        },
        "id": "NuNHq09S2Y8N",
        "outputId": "ce9ab0ab-d4bb-4543-feba-77513a971749"
      },
      "source": [
        "ds.describe()"
      ],
      "execution_count": null,
      "outputs": [
        {
          "output_type": "execute_result",
          "data": {
            "text/html": [
              "<div>\n",
              "<style scoped>\n",
              "    .dataframe tbody tr th:only-of-type {\n",
              "        vertical-align: middle;\n",
              "    }\n",
              "\n",
              "    .dataframe tbody tr th {\n",
              "        vertical-align: top;\n",
              "    }\n",
              "\n",
              "    .dataframe thead th {\n",
              "        text-align: right;\n",
              "    }\n",
              "</style>\n",
              "<table border=\"1\" class=\"dataframe\">\n",
              "  <thead>\n",
              "    <tr style=\"text-align: right;\">\n",
              "      <th></th>\n",
              "      <th>Name</th>\n",
              "      <th>Your Email id</th>\n",
              "      <th>Age</th>\n",
              "      <th>Gender</th>\n",
              "      <th>Education level</th>\n",
              "      <th>Are you accustomed to online exams?</th>\n",
              "      <th>How much do you understand online exam?</th>\n",
              "      <th>How satisfied are you with the online exam?</th>\n",
              "      <th>How much online exam is increasing your knowledge?</th>\n",
              "      <th>Your exam experience after Covid-19</th>\n",
              "    </tr>\n",
              "  </thead>\n",
              "  <tbody>\n",
              "    <tr>\n",
              "      <th>count</th>\n",
              "      <td>309</td>\n",
              "      <td>309</td>\n",
              "      <td>309</td>\n",
              "      <td>309</td>\n",
              "      <td>309</td>\n",
              "      <td>309</td>\n",
              "      <td>309</td>\n",
              "      <td>309</td>\n",
              "      <td>309</td>\n",
              "      <td>307</td>\n",
              "    </tr>\n",
              "    <tr>\n",
              "      <th>unique</th>\n",
              "      <td>291</td>\n",
              "      <td>290</td>\n",
              "      <td>17</td>\n",
              "      <td>2</td>\n",
              "      <td>5</td>\n",
              "      <td>2</td>\n",
              "      <td>5</td>\n",
              "      <td>4</td>\n",
              "      <td>20</td>\n",
              "      <td>142</td>\n",
              "    </tr>\n",
              "    <tr>\n",
              "      <th>top</th>\n",
              "      <td>Redowan Chowdory</td>\n",
              "      <td>171-15-9520</td>\n",
              "      <td>21</td>\n",
              "      <td>Male</td>\n",
              "      <td>Under Graduate</td>\n",
              "      <td>Yes</td>\n",
              "      <td>50%-90%</td>\n",
              "      <td>60%-90%</td>\n",
              "      <td>Not so much</td>\n",
              "      <td>Bad</td>\n",
              "    </tr>\n",
              "    <tr>\n",
              "      <th>freq</th>\n",
              "      <td>3</td>\n",
              "      <td>3</td>\n",
              "      <td>100</td>\n",
              "      <td>199</td>\n",
              "      <td>258</td>\n",
              "      <td>221</td>\n",
              "      <td>149</td>\n",
              "      <td>111</td>\n",
              "      <td>173</td>\n",
              "      <td>53</td>\n",
              "    </tr>\n",
              "  </tbody>\n",
              "</table>\n",
              "</div>"
            ],
            "text/plain": [
              "                    Name  ... Your exam experience after Covid-19\n",
              "count                309  ...                                 307\n",
              "unique               291  ...                                 142\n",
              "top     Redowan Chowdory  ...                                 Bad\n",
              "freq                   3  ...                                  53\n",
              "\n",
              "[4 rows x 10 columns]"
            ]
          },
          "metadata": {},
          "execution_count": 8
        }
      ]
    },
    {
      "cell_type": "code",
      "metadata": {
        "colab": {
          "base_uri": "https://localhost:8080/"
        },
        "id": "SsAB-7--2ni-",
        "outputId": "498dc93c-7d69-48d5-a613-c3b5bc67b04e"
      },
      "source": [
        "ds.info()"
      ],
      "execution_count": null,
      "outputs": [
        {
          "output_type": "stream",
          "name": "stdout",
          "text": [
            "<class 'pandas.core.frame.DataFrame'>\n",
            "RangeIndex: 309 entries, 0 to 308\n",
            "Data columns (total 10 columns):\n",
            " #   Column                                              Non-Null Count  Dtype \n",
            "---  ------                                              --------------  ----- \n",
            " 0   Name                                                309 non-null    object\n",
            " 1   Your Email id                                       309 non-null    object\n",
            " 2   Age                                                 309 non-null    object\n",
            " 3   Gender                                              309 non-null    object\n",
            " 4   Education level                                     309 non-null    object\n",
            " 5   Are you accustomed to online exams?                 309 non-null    object\n",
            " 6   How much do you understand online exam?             309 non-null    object\n",
            " 7   How satisfied are you with the online exam?         309 non-null    object\n",
            " 8   How much online exam is increasing your knowledge?  309 non-null    object\n",
            " 9   Your exam experience after Covid-19                 307 non-null    object\n",
            "dtypes: object(10)\n",
            "memory usage: 24.3+ KB\n"
          ]
        }
      ]
    },
    {
      "cell_type": "code",
      "metadata": {
        "colab": {
          "base_uri": "https://localhost:8080/"
        },
        "id": "jD8VON575h6V",
        "outputId": "3669b0ef-e467-41a1-908a-a52022d53d2c"
      },
      "source": [
        "ds.equals(ds)"
      ],
      "execution_count": null,
      "outputs": [
        {
          "output_type": "execute_result",
          "data": {
            "text/plain": [
              "True"
            ]
          },
          "metadata": {},
          "execution_count": 10
        }
      ]
    },
    {
      "cell_type": "code",
      "metadata": {
        "colab": {
          "base_uri": "https://localhost:8080/"
        },
        "id": "G8LWQYLw_xqK",
        "outputId": "3ef70dc6-8c09-453c-a475-4b52ea9e26e7"
      },
      "source": [
        "ds['Name']"
      ],
      "execution_count": null,
      "outputs": [
        {
          "output_type": "execute_result",
          "data": {
            "text/plain": [
              "0           Tonny Saha\n",
              "1      Shahajada hasib\n",
              "2       Md Arafuzzaman\n",
              "3             Khalida \n",
              "4      Afrin Jahan Etu\n",
              "            ...       \n",
              "304         Asif Islam\n",
              "305         Afrin Knta\n",
              "306       Swapan Kumar\n",
              "307      Nirmal biswas\n",
              "308        Nasrin Popy\n",
              "Name: Name, Length: 309, dtype: object"
            ]
          },
          "metadata": {},
          "execution_count": 11
        }
      ]
    },
    {
      "cell_type": "code",
      "metadata": {
        "colab": {
          "base_uri": "https://localhost:8080/"
        },
        "id": "3nXYlkS19I_b",
        "outputId": "b8d33522-0d0c-4bfa-b180-f71582a60b51"
      },
      "source": [
        "ds['Gender']"
      ],
      "execution_count": null,
      "outputs": [
        {
          "output_type": "execute_result",
          "data": {
            "text/plain": [
              "0      Female\n",
              "1        Male\n",
              "2        Male\n",
              "3      Female\n",
              "4      Female\n",
              "        ...  \n",
              "304      Male\n",
              "305    Female\n",
              "306      Male\n",
              "307      Male\n",
              "308    Female\n",
              "Name: Gender, Length: 309, dtype: object"
            ]
          },
          "metadata": {},
          "execution_count": 12
        }
      ]
    },
    {
      "cell_type": "code",
      "metadata": {
        "colab": {
          "base_uri": "https://localhost:8080/"
        },
        "id": "y_77ul6t9mGW",
        "outputId": "bca8c556-5858-45af-c059-3e208da2c2bf"
      },
      "source": [
        "ds['Gender'].mode()"
      ],
      "execution_count": null,
      "outputs": [
        {
          "output_type": "execute_result",
          "data": {
            "text/plain": [
              "0    Male\n",
              "dtype: object"
            ]
          },
          "metadata": {},
          "execution_count": 13
        }
      ]
    },
    {
      "cell_type": "code",
      "metadata": {
        "colab": {
          "base_uri": "https://localhost:8080/",
          "height": 32
        },
        "id": "0ED7aV_z_JfL",
        "outputId": "9c8af2b0-8391-4f5c-9403-bbc792802c0a"
      },
      "source": [
        "ds.corr()"
      ],
      "execution_count": null,
      "outputs": [
        {
          "output_type": "execute_result",
          "data": {
            "text/html": [
              "<div>\n",
              "<style scoped>\n",
              "    .dataframe tbody tr th:only-of-type {\n",
              "        vertical-align: middle;\n",
              "    }\n",
              "\n",
              "    .dataframe tbody tr th {\n",
              "        vertical-align: top;\n",
              "    }\n",
              "\n",
              "    .dataframe thead th {\n",
              "        text-align: right;\n",
              "    }\n",
              "</style>\n",
              "<table border=\"1\" class=\"dataframe\">\n",
              "  <thead>\n",
              "    <tr style=\"text-align: right;\">\n",
              "      <th></th>\n",
              "    </tr>\n",
              "  </thead>\n",
              "  <tbody>\n",
              "  </tbody>\n",
              "</table>\n",
              "</div>"
            ],
            "text/plain": [
              "Empty DataFrame\n",
              "Columns: []\n",
              "Index: []"
            ]
          },
          "metadata": {},
          "execution_count": 14
        }
      ]
    },
    {
      "cell_type": "code",
      "metadata": {
        "colab": {
          "base_uri": "https://localhost:8080/"
        },
        "id": "nBJ6vUN1z47F",
        "outputId": "8d22cf51-29ef-4dcf-8879-403da3ba1925"
      },
      "source": [
        "x=ds['Age']\n",
        "x"
      ],
      "execution_count": null,
      "outputs": [
        {
          "output_type": "execute_result",
          "data": {
            "text/plain": [
              "0      21\n",
              "1      23\n",
              "2      25\n",
              "3      21\n",
              "4      21\n",
              "       ..\n",
              "304    23\n",
              "305    22\n",
              "306    21\n",
              "307    21\n",
              "308    20\n",
              "Name: Age, Length: 309, dtype: object"
            ]
          },
          "metadata": {},
          "execution_count": 15
        }
      ]
    },
    {
      "cell_type": "code",
      "metadata": {
        "colab": {
          "base_uri": "https://localhost:8080/"
        },
        "id": "Qi9Kamcw0C-c",
        "outputId": "9feed1fd-0e00-4279-a2d2-2adbc8ec4ca3"
      },
      "source": [
        "y=ds['Age']\n",
        "y"
      ],
      "execution_count": null,
      "outputs": [
        {
          "output_type": "execute_result",
          "data": {
            "text/plain": [
              "0      21\n",
              "1      23\n",
              "2      25\n",
              "3      21\n",
              "4      21\n",
              "       ..\n",
              "304    23\n",
              "305    22\n",
              "306    21\n",
              "307    21\n",
              "308    20\n",
              "Name: Age, Length: 309, dtype: object"
            ]
          },
          "metadata": {},
          "execution_count": 16
        }
      ]
    },
    {
      "cell_type": "code",
      "metadata": {
        "colab": {
          "base_uri": "https://localhost:8080/"
        },
        "id": "sLaYVpkwgVFJ",
        "outputId": "0dc3b6e9-e890-410d-92c3-4f4c5204194f"
      },
      "source": [
        "y = ds['Your Email id']\n",
        "y"
      ],
      "execution_count": null,
      "outputs": [
        {
          "output_type": "execute_result",
          "data": {
            "text/plain": [
              "0         tonnyranisaha1@gmail.com\n",
              "1         shahajadahasib@gmail.com\n",
              "2            arafuzzaman@gmail.com\n",
              "3      Khalidatasneem01@gmail.com \n",
              "4        afrinjahanetu66@gmail.com\n",
              "                  ...             \n",
              "304                asif1@gmail.com\n",
              "305              kanta21@gmail.com\n",
              "306             kumar123@gmail.com\n",
              "307             nirmal01@gmail.com\n",
              "308          NasrinPopy1@gmail.com\n",
              "Name: Your Email id, Length: 309, dtype: object"
            ]
          },
          "metadata": {},
          "execution_count": 17
        }
      ]
    },
    {
      "cell_type": "code",
      "metadata": {
        "colab": {
          "base_uri": "https://localhost:8080/",
          "height": 640
        },
        "id": "mCcP47ydgeOp",
        "outputId": "a1f5d774-5b29-49de-f449-760140d0ea79"
      },
      "source": [
        "x = ds.drop('Your Email id', axis=1)\n",
        "x"
      ],
      "execution_count": null,
      "outputs": [
        {
          "output_type": "execute_result",
          "data": {
            "text/html": [
              "<div>\n",
              "<style scoped>\n",
              "    .dataframe tbody tr th:only-of-type {\n",
              "        vertical-align: middle;\n",
              "    }\n",
              "\n",
              "    .dataframe tbody tr th {\n",
              "        vertical-align: top;\n",
              "    }\n",
              "\n",
              "    .dataframe thead th {\n",
              "        text-align: right;\n",
              "    }\n",
              "</style>\n",
              "<table border=\"1\" class=\"dataframe\">\n",
              "  <thead>\n",
              "    <tr style=\"text-align: right;\">\n",
              "      <th></th>\n",
              "      <th>Name</th>\n",
              "      <th>Age</th>\n",
              "      <th>Gender</th>\n",
              "      <th>Education level</th>\n",
              "      <th>Are you accustomed to online exams?</th>\n",
              "      <th>How much do you understand online exam?</th>\n",
              "      <th>How satisfied are you with the online exam?</th>\n",
              "      <th>How much online exam is increasing your knowledge?</th>\n",
              "      <th>Your exam experience after Covid-19</th>\n",
              "    </tr>\n",
              "  </thead>\n",
              "  <tbody>\n",
              "    <tr>\n",
              "      <th>0</th>\n",
              "      <td>Tonny Saha</td>\n",
              "      <td>21</td>\n",
              "      <td>Female</td>\n",
              "      <td>Under Graduate</td>\n",
              "      <td>Yes</td>\n",
              "      <td>50%-90%</td>\n",
              "      <td>60%-90%</td>\n",
              "      <td>Too much</td>\n",
              "      <td>Much more experience</td>\n",
              "    </tr>\n",
              "    <tr>\n",
              "      <th>1</th>\n",
              "      <td>Shahajada hasib</td>\n",
              "      <td>23</td>\n",
              "      <td>Male</td>\n",
              "      <td>Under Graduate</td>\n",
              "      <td>Yes</td>\n",
              "      <td>100%</td>\n",
              "      <td>10%-30%</td>\n",
              "      <td>Not so much</td>\n",
              "      <td>The online exam experience was not beneficial ...</td>\n",
              "    </tr>\n",
              "    <tr>\n",
              "      <th>2</th>\n",
              "      <td>Md Arafuzzaman</td>\n",
              "      <td>25</td>\n",
              "      <td>Male</td>\n",
              "      <td>Under Graduate</td>\n",
              "      <td>Yes</td>\n",
              "      <td>50%-90%</td>\n",
              "      <td>60%-90%</td>\n",
              "      <td>50%</td>\n",
              "      <td>40%</td>\n",
              "    </tr>\n",
              "    <tr>\n",
              "      <th>3</th>\n",
              "      <td>Khalida</td>\n",
              "      <td>21</td>\n",
              "      <td>Female</td>\n",
              "      <td>Under Graduate</td>\n",
              "      <td>Yes</td>\n",
              "      <td>100%</td>\n",
              "      <td>60%-90%</td>\n",
              "      <td>70%</td>\n",
              "      <td>As a Private university Student its Normal</td>\n",
              "    </tr>\n",
              "    <tr>\n",
              "      <th>4</th>\n",
              "      <td>Afrin Jahan Etu</td>\n",
              "      <td>21</td>\n",
              "      <td>Female</td>\n",
              "      <td>Under Graduate</td>\n",
              "      <td>Yes</td>\n",
              "      <td>50%-90%</td>\n",
              "      <td>10%-30%</td>\n",
              "      <td>Not so much</td>\n",
              "      <td>So bad</td>\n",
              "    </tr>\n",
              "    <tr>\n",
              "      <th>...</th>\n",
              "      <td>...</td>\n",
              "      <td>...</td>\n",
              "      <td>...</td>\n",
              "      <td>...</td>\n",
              "      <td>...</td>\n",
              "      <td>...</td>\n",
              "      <td>...</td>\n",
              "      <td>...</td>\n",
              "      <td>...</td>\n",
              "    </tr>\n",
              "    <tr>\n",
              "      <th>304</th>\n",
              "      <td>Asif Islam</td>\n",
              "      <td>23</td>\n",
              "      <td>Male</td>\n",
              "      <td>Under Graduate</td>\n",
              "      <td>Yes</td>\n",
              "      <td>50%-90%</td>\n",
              "      <td>60%-90%</td>\n",
              "      <td>Too much</td>\n",
              "      <td>Too much</td>\n",
              "    </tr>\n",
              "    <tr>\n",
              "      <th>305</th>\n",
              "      <td>Afrin Knta</td>\n",
              "      <td>22</td>\n",
              "      <td>Female</td>\n",
              "      <td>Under Graduate</td>\n",
              "      <td>Yes</td>\n",
              "      <td>10%-50%</td>\n",
              "      <td>10%-30%</td>\n",
              "      <td>Not so much</td>\n",
              "      <td>Bad</td>\n",
              "    </tr>\n",
              "    <tr>\n",
              "      <th>306</th>\n",
              "      <td>Swapan Kumar</td>\n",
              "      <td>21</td>\n",
              "      <td>Male</td>\n",
              "      <td>Under Graduate</td>\n",
              "      <td>Yes</td>\n",
              "      <td>10%-50%</td>\n",
              "      <td>30%-60%</td>\n",
              "      <td>Good Enough</td>\n",
              "      <td>Good</td>\n",
              "    </tr>\n",
              "    <tr>\n",
              "      <th>307</th>\n",
              "      <td>Nirmal biswas</td>\n",
              "      <td>21</td>\n",
              "      <td>Male</td>\n",
              "      <td>Under Graduate</td>\n",
              "      <td>Yes</td>\n",
              "      <td>50%-90%</td>\n",
              "      <td>60%-90%</td>\n",
              "      <td>Good Enough</td>\n",
              "      <td>Good Enough</td>\n",
              "    </tr>\n",
              "    <tr>\n",
              "      <th>308</th>\n",
              "      <td>Nasrin Popy</td>\n",
              "      <td>20</td>\n",
              "      <td>Female</td>\n",
              "      <td>Under Graduate</td>\n",
              "      <td>No</td>\n",
              "      <td>10%-50%</td>\n",
              "      <td>10%-30%</td>\n",
              "      <td>Not so much</td>\n",
              "      <td>Bad</td>\n",
              "    </tr>\n",
              "  </tbody>\n",
              "</table>\n",
              "<p>309 rows × 9 columns</p>\n",
              "</div>"
            ],
            "text/plain": [
              "                Name  ...                Your exam experience after Covid-19\n",
              "0         Tonny Saha  ...                              Much more experience \n",
              "1    Shahajada hasib  ...  The online exam experience was not beneficial ...\n",
              "2     Md Arafuzzaman  ...                                                40%\n",
              "3           Khalida   ...        As a Private university Student its Normal \n",
              "4    Afrin Jahan Etu  ...                                             So bad\n",
              "..               ...  ...                                                ...\n",
              "304       Asif Islam  ...                                           Too much\n",
              "305       Afrin Knta  ...                                                Bad\n",
              "306     Swapan Kumar  ...                                              Good \n",
              "307    Nirmal biswas  ...                                        Good Enough\n",
              "308      Nasrin Popy  ...                                                Bad\n",
              "\n",
              "[309 rows x 9 columns]"
            ]
          },
          "metadata": {},
          "execution_count": 18
        }
      ]
    },
    {
      "cell_type": "code",
      "metadata": {
        "id": "haT4ubOKwynp"
      },
      "source": [
        "from sklearn.model_selection import train_test_split\n",
        "from sklearn.preprocessing import LabelEncoder\n",
        "from sklearn.neighbors import KNeighborsClassifier"
      ],
      "execution_count": null,
      "outputs": []
    },
    {
      "cell_type": "code",
      "metadata": {
        "id": "-OLEg2GIAK7R"
      },
      "source": [
        "x_train,x_test,y_train,y_test=train_test_split(x,y,test_size=0.2)"
      ],
      "execution_count": null,
      "outputs": []
    },
    {
      "cell_type": "code",
      "metadata": {
        "id": "n87lJb1-DJuu"
      },
      "source": [
        "l = LabelEncoder()\n",
        "y_train = l.fit_transform(y_train)"
      ],
      "execution_count": null,
      "outputs": []
    },
    {
      "cell_type": "code",
      "metadata": {
        "colab": {
          "base_uri": "https://localhost:8080/",
          "height": 589
        },
        "id": "42MUCqmX78Xj",
        "outputId": "d9dc86c6-c13e-4a94-8aba-ae03279ceeac"
      },
      "source": [
        "x_train"
      ],
      "execution_count": null,
      "outputs": [
        {
          "output_type": "execute_result",
          "data": {
            "text/html": [
              "<div>\n",
              "<style scoped>\n",
              "    .dataframe tbody tr th:only-of-type {\n",
              "        vertical-align: middle;\n",
              "    }\n",
              "\n",
              "    .dataframe tbody tr th {\n",
              "        vertical-align: top;\n",
              "    }\n",
              "\n",
              "    .dataframe thead th {\n",
              "        text-align: right;\n",
              "    }\n",
              "</style>\n",
              "<table border=\"1\" class=\"dataframe\">\n",
              "  <thead>\n",
              "    <tr style=\"text-align: right;\">\n",
              "      <th></th>\n",
              "      <th>Name</th>\n",
              "      <th>Age</th>\n",
              "      <th>Gender</th>\n",
              "      <th>Education level</th>\n",
              "      <th>Are you accustomed to online exams?</th>\n",
              "      <th>How much do you understand online exam?</th>\n",
              "      <th>How satisfied are you with the online exam?</th>\n",
              "      <th>How much online exam is increasing your knowledge?</th>\n",
              "      <th>Your exam experience after Covid-19</th>\n",
              "    </tr>\n",
              "  </thead>\n",
              "  <tbody>\n",
              "    <tr>\n",
              "      <th>304</th>\n",
              "      <td>Asif Islam</td>\n",
              "      <td>23</td>\n",
              "      <td>Male</td>\n",
              "      <td>Under Graduate</td>\n",
              "      <td>Yes</td>\n",
              "      <td>50%-90%</td>\n",
              "      <td>60%-90%</td>\n",
              "      <td>Too much</td>\n",
              "      <td>Too much</td>\n",
              "    </tr>\n",
              "    <tr>\n",
              "      <th>206</th>\n",
              "      <td>Shahrin Rashid Oishi</td>\n",
              "      <td>20</td>\n",
              "      <td>Female</td>\n",
              "      <td>Under Graduate</td>\n",
              "      <td>No</td>\n",
              "      <td>10%-50%</td>\n",
              "      <td>10%-30%</td>\n",
              "      <td>Not so much</td>\n",
              "      <td>not satisfied</td>\n",
              "    </tr>\n",
              "    <tr>\n",
              "      <th>107</th>\n",
              "      <td>Abu sayed</td>\n",
              "      <td>22</td>\n",
              "      <td>Male</td>\n",
              "      <td>Under Graduate</td>\n",
              "      <td>Yes</td>\n",
              "      <td>50%-90%</td>\n",
              "      <td>60%-90%</td>\n",
              "      <td>Not so much</td>\n",
              "      <td>Avarage</td>\n",
              "    </tr>\n",
              "    <tr>\n",
              "      <th>297</th>\n",
              "      <td>Tondra saha</td>\n",
              "      <td>24</td>\n",
              "      <td>Female</td>\n",
              "      <td>Graduate</td>\n",
              "      <td>Yes</td>\n",
              "      <td>50%-90%</td>\n",
              "      <td>60%-90%</td>\n",
              "      <td>Good Enough</td>\n",
              "      <td>Good</td>\n",
              "    </tr>\n",
              "    <tr>\n",
              "      <th>211</th>\n",
              "      <td>Piu Adhikari</td>\n",
              "      <td>22</td>\n",
              "      <td>Female</td>\n",
              "      <td>Under Graduate</td>\n",
              "      <td>Yes</td>\n",
              "      <td>50%-90%</td>\n",
              "      <td>30%-60%</td>\n",
              "      <td>Good Enough</td>\n",
              "      <td>Too much</td>\n",
              "    </tr>\n",
              "    <tr>\n",
              "      <th>...</th>\n",
              "      <td>...</td>\n",
              "      <td>...</td>\n",
              "      <td>...</td>\n",
              "      <td>...</td>\n",
              "      <td>...</td>\n",
              "      <td>...</td>\n",
              "      <td>...</td>\n",
              "      <td>...</td>\n",
              "      <td>...</td>\n",
              "    </tr>\n",
              "    <tr>\n",
              "      <th>222</th>\n",
              "      <td>Rasel Sekh</td>\n",
              "      <td>21</td>\n",
              "      <td>Male</td>\n",
              "      <td>Under Graduate</td>\n",
              "      <td>No</td>\n",
              "      <td>0%</td>\n",
              "      <td>10%-30%</td>\n",
              "      <td>Good Enough</td>\n",
              "      <td>Good</td>\n",
              "    </tr>\n",
              "    <tr>\n",
              "      <th>104</th>\n",
              "      <td>Imran Rahman</td>\n",
              "      <td>21</td>\n",
              "      <td>Male</td>\n",
              "      <td>Under Graduate</td>\n",
              "      <td>Yes</td>\n",
              "      <td>50%-90%</td>\n",
              "      <td>60%-90%</td>\n",
              "      <td>Not so much</td>\n",
              "      <td>Ok</td>\n",
              "    </tr>\n",
              "    <tr>\n",
              "      <th>180</th>\n",
              "      <td>Md forid uz zaman sifat</td>\n",
              "      <td>21</td>\n",
              "      <td>Male</td>\n",
              "      <td>Under Graduate</td>\n",
              "      <td>Yes</td>\n",
              "      <td>10%-50%</td>\n",
              "      <td>10%-30%</td>\n",
              "      <td>Good Enough</td>\n",
              "      <td>Gd</td>\n",
              "    </tr>\n",
              "    <tr>\n",
              "      <th>89</th>\n",
              "      <td>Momotaz Zahan Mim</td>\n",
              "      <td>22</td>\n",
              "      <td>Female</td>\n",
              "      <td>Under Graduate</td>\n",
              "      <td>Yes</td>\n",
              "      <td>50%-90%</td>\n",
              "      <td>30%-60%</td>\n",
              "      <td>Not so much</td>\n",
              "      <td>Not so good.</td>\n",
              "    </tr>\n",
              "    <tr>\n",
              "      <th>292</th>\n",
              "      <td>Sammi Akter</td>\n",
              "      <td>18</td>\n",
              "      <td>Female</td>\n",
              "      <td>HSC level</td>\n",
              "      <td>No</td>\n",
              "      <td>0%</td>\n",
              "      <td>10%-30%</td>\n",
              "      <td>Not so much</td>\n",
              "      <td>Bad</td>\n",
              "    </tr>\n",
              "  </tbody>\n",
              "</table>\n",
              "<p>247 rows × 9 columns</p>\n",
              "</div>"
            ],
            "text/plain": [
              "                        Name  ... Your exam experience after Covid-19\n",
              "304               Asif Islam  ...                            Too much\n",
              "206     Shahrin Rashid Oishi  ...                       not satisfied\n",
              "107                Abu sayed  ...                            Avarage \n",
              "297              Tondra saha  ...                                Good\n",
              "211             Piu Adhikari  ...                            Too much\n",
              "..                       ...  ...                                 ...\n",
              "222               Rasel Sekh  ...                               Good \n",
              "104             Imran Rahman  ...                                  Ok\n",
              "180  Md forid uz zaman sifat  ...                                  Gd\n",
              "89         Momotaz Zahan Mim  ...                        Not so good.\n",
              "292              Sammi Akter  ...                                 Bad\n",
              "\n",
              "[247 rows x 9 columns]"
            ]
          },
          "metadata": {},
          "execution_count": 22
        }
      ]
    },
    {
      "cell_type": "code",
      "metadata": {
        "colab": {
          "base_uri": "https://localhost:8080/",
          "height": 606
        },
        "id": "VEJfnQ689Ua4",
        "outputId": "abc5e330-c41b-4f26-8b08-da74d71b6513"
      },
      "source": [
        "x_test"
      ],
      "execution_count": null,
      "outputs": [
        {
          "output_type": "execute_result",
          "data": {
            "text/html": [
              "<div>\n",
              "<style scoped>\n",
              "    .dataframe tbody tr th:only-of-type {\n",
              "        vertical-align: middle;\n",
              "    }\n",
              "\n",
              "    .dataframe tbody tr th {\n",
              "        vertical-align: top;\n",
              "    }\n",
              "\n",
              "    .dataframe thead th {\n",
              "        text-align: right;\n",
              "    }\n",
              "</style>\n",
              "<table border=\"1\" class=\"dataframe\">\n",
              "  <thead>\n",
              "    <tr style=\"text-align: right;\">\n",
              "      <th></th>\n",
              "      <th>Name</th>\n",
              "      <th>Age</th>\n",
              "      <th>Gender</th>\n",
              "      <th>Education level</th>\n",
              "      <th>Are you accustomed to online exams?</th>\n",
              "      <th>How much do you understand online exam?</th>\n",
              "      <th>How satisfied are you with the online exam?</th>\n",
              "      <th>How much online exam is increasing your knowledge?</th>\n",
              "      <th>Your exam experience after Covid-19</th>\n",
              "    </tr>\n",
              "  </thead>\n",
              "  <tbody>\n",
              "    <tr>\n",
              "      <th>146</th>\n",
              "      <td>Rakibul Islam Badhan</td>\n",
              "      <td>19</td>\n",
              "      <td>Male</td>\n",
              "      <td>HSC level</td>\n",
              "      <td>No</td>\n",
              "      <td>10%-50%</td>\n",
              "      <td>10%-30%</td>\n",
              "      <td>Not so much</td>\n",
              "      <td>I think it's killing our backbone!</td>\n",
              "    </tr>\n",
              "    <tr>\n",
              "      <th>53</th>\n",
              "      <td>Nahid</td>\n",
              "      <td>22</td>\n",
              "      <td>Male</td>\n",
              "      <td>HSC level</td>\n",
              "      <td>Yes</td>\n",
              "      <td>50%-90%</td>\n",
              "      <td>100%</td>\n",
              "      <td>Good Enough</td>\n",
              "      <td>Good</td>\n",
              "    </tr>\n",
              "    <tr>\n",
              "      <th>174</th>\n",
              "      <td>Shahriar Mamun</td>\n",
              "      <td>22</td>\n",
              "      <td>Male</td>\n",
              "      <td>Under Graduate</td>\n",
              "      <td>Yes</td>\n",
              "      <td>100%</td>\n",
              "      <td>10%-30%</td>\n",
              "      <td>Not so much</td>\n",
              "      <td>very bad</td>\n",
              "    </tr>\n",
              "    <tr>\n",
              "      <th>25</th>\n",
              "      <td>Puja Halder</td>\n",
              "      <td>18</td>\n",
              "      <td>Female</td>\n",
              "      <td>HSC level</td>\n",
              "      <td>No</td>\n",
              "      <td>50%-90%</td>\n",
              "      <td>60%-90%</td>\n",
              "      <td>Not so much</td>\n",
              "      <td>No experience</td>\n",
              "    </tr>\n",
              "    <tr>\n",
              "      <th>29</th>\n",
              "      <td>Tomalika kundu</td>\n",
              "      <td>22</td>\n",
              "      <td>Female</td>\n",
              "      <td>Under Graduate</td>\n",
              "      <td>Yes</td>\n",
              "      <td>10%-50%</td>\n",
              "      <td>10%-30%</td>\n",
              "      <td>Too much</td>\n",
              "      <td>During Covid-19, we lacked offline classes. So...</td>\n",
              "    </tr>\n",
              "    <tr>\n",
              "      <th>...</th>\n",
              "      <td>...</td>\n",
              "      <td>...</td>\n",
              "      <td>...</td>\n",
              "      <td>...</td>\n",
              "      <td>...</td>\n",
              "      <td>...</td>\n",
              "      <td>...</td>\n",
              "      <td>...</td>\n",
              "      <td>...</td>\n",
              "    </tr>\n",
              "    <tr>\n",
              "      <th>27</th>\n",
              "      <td>Tomalika kundu</td>\n",
              "      <td>22</td>\n",
              "      <td>Female</td>\n",
              "      <td>Under Graduate</td>\n",
              "      <td>Yes</td>\n",
              "      <td>10%-50%</td>\n",
              "      <td>10%-30%</td>\n",
              "      <td>Too much</td>\n",
              "      <td>.During Covid-19, we lacked offline classes. S...</td>\n",
              "    </tr>\n",
              "    <tr>\n",
              "      <th>15</th>\n",
              "      <td>Pari Majumdar</td>\n",
              "      <td>20</td>\n",
              "      <td>Female</td>\n",
              "      <td>Under Graduate</td>\n",
              "      <td>Yes</td>\n",
              "      <td>10%-50%</td>\n",
              "      <td>30%-60%</td>\n",
              "      <td>GOOD</td>\n",
              "      <td>I have no experience</td>\n",
              "    </tr>\n",
              "    <tr>\n",
              "      <th>231</th>\n",
              "      <td>Priya Saha</td>\n",
              "      <td>22</td>\n",
              "      <td>Female</td>\n",
              "      <td>Under Graduate</td>\n",
              "      <td>No</td>\n",
              "      <td>10%-50%</td>\n",
              "      <td>30%-60%</td>\n",
              "      <td>Good Enough</td>\n",
              "      <td>Good</td>\n",
              "    </tr>\n",
              "    <tr>\n",
              "      <th>51</th>\n",
              "      <td>NR Shawon Gazi</td>\n",
              "      <td>21</td>\n",
              "      <td>Male</td>\n",
              "      <td>Under Graduate</td>\n",
              "      <td>Yes</td>\n",
              "      <td>10%-50%</td>\n",
              "      <td>10%-30%</td>\n",
              "      <td>Not so much</td>\n",
              "      <td>no</td>\n",
              "    </tr>\n",
              "    <tr>\n",
              "      <th>284</th>\n",
              "      <td>Suvra Saha</td>\n",
              "      <td>21</td>\n",
              "      <td>Female</td>\n",
              "      <td>Under Graduate</td>\n",
              "      <td>Yes</td>\n",
              "      <td>50%-90%</td>\n",
              "      <td>60%-90%</td>\n",
              "      <td>Too much</td>\n",
              "      <td>Bad</td>\n",
              "    </tr>\n",
              "  </tbody>\n",
              "</table>\n",
              "<p>62 rows × 9 columns</p>\n",
              "</div>"
            ],
            "text/plain": [
              "                     Name  ...                Your exam experience after Covid-19\n",
              "146  Rakibul Islam Badhan  ...                I think it's killing our backbone! \n",
              "53                  Nahid  ...                                               Good\n",
              "174        Shahriar Mamun  ...                                           very bad\n",
              "25            Puja Halder  ...                                     No experience \n",
              "29        Tomalika kundu   ...  During Covid-19, we lacked offline classes. So...\n",
              "..                    ...  ...                                                ...\n",
              "27        Tomalika kundu   ...  .During Covid-19, we lacked offline classes. S...\n",
              "15         Pari Majumdar   ...                              I have no experience \n",
              "231            Priya Saha  ...                                              Good \n",
              "51        NR Shawon Gazi   ...                                                 no\n",
              "284            Suvra Saha  ...                                                Bad\n",
              "\n",
              "[62 rows x 9 columns]"
            ]
          },
          "metadata": {},
          "execution_count": 23
        }
      ]
    },
    {
      "cell_type": "code",
      "metadata": {
        "id": "6LbOIxM_Dtfa"
      },
      "source": [
        "l=LabelEncoder()\n",
        "y_train=l.fit_transform(y_train)"
      ],
      "execution_count": null,
      "outputs": []
    },
    {
      "cell_type": "code",
      "metadata": {
        "colab": {
          "base_uri": "https://localhost:8080/"
        },
        "id": "LXKPvihdD0_k",
        "outputId": "cae2467a-b04c-49d4-9b58-7c655c776d3e"
      },
      "source": [
        "y_train"
      ],
      "execution_count": null,
      "outputs": [
        {
          "output_type": "execute_result",
          "data": {
            "text/plain": [
              "array([ 92, 200,  78, 226,  45, 130,  22, 152, 188, 160,  77,  43, 132,\n",
              "        74, 202, 163,  94,  60, 183,  47, 119, 193, 120, 207, 108,   8,\n",
              "         0,  63, 222, 114,  55, 171, 109, 190,  89,  32,  80, 204,  76,\n",
              "       101,  64, 107,  34,  66, 187, 199, 172, 125, 176, 143, 127, 150,\n",
              "       147, 154,  67,  39,  48,  69,  46,  68, 158, 217, 221, 184, 126,\n",
              "       131, 220, 111, 167, 169, 182, 203,   3,  87,  96,  71,  41, 155,\n",
              "       110, 148, 194, 133, 224,  65, 136,   5, 135,  99,  13,   2, 166,\n",
              "       164, 219, 122,  31, 134,  12, 223, 206,  95,  88, 221,  61, 105,\n",
              "        81, 205, 212, 174,  51, 159, 210, 146,  15, 169,  42, 141,   5,\n",
              "       218, 231, 177,  10,  28, 103,  73, 153, 195,  70, 181, 229,  59,\n",
              "       115, 201,  97, 156,  25,  57, 221, 198,  21, 211,  53, 186,  84,\n",
              "         2,  17,  80,  98,  30,  19, 157,  75,  38, 128, 112,  24, 227,\n",
              "       149,  40,  58, 197, 218,   1, 144, 213,  16,  18,   9,  62,  26,\n",
              "       210,   4, 170,  23, 173, 165, 129, 100, 137, 138, 185, 215,  20,\n",
              "       225, 162,  81, 168, 139,  33, 118,  91, 142, 180,  14, 106, 140,\n",
              "       179, 209, 192,  37, 104, 117,  93,  49, 189,  27,   9,   7, 116,\n",
              "       196,  85, 228, 214, 178,  90, 178, 102,  56,  72,  64, 161,  50,\n",
              "        36, 216, 151,  11, 191, 230,  83,  35,  96,  29, 208,  54,   2,\n",
              "        86,  44,  79, 124, 139, 175, 121,   6,  52, 123, 113, 145,  82])"
            ]
          },
          "metadata": {},
          "execution_count": 25
        }
      ]
    },
    {
      "cell_type": "code",
      "metadata": {
        "colab": {
          "base_uri": "https://localhost:8080/"
        },
        "id": "spI3QueB9ZoG",
        "outputId": "a70250e6-4bed-466e-ad94-7683ce20386a"
      },
      "source": [
        "y_test"
      ],
      "execution_count": null,
      "outputs": [
        {
          "output_type": "execute_result",
          "data": {
            "text/plain": [
              "146                   201-15-14191\n",
              "53      mdnahides349349@yaho. Com \n",
              "174    shahriar15-12859@diu.edu.bd\n",
              "25              Pujah596@gmail.com\n",
              "29        tomalikakundu9005@gmail \n",
              "                  ...             \n",
              "27        tomalikakundu9005@gmail \n",
              "15        parimajumder61@gmail.com\n",
              "231               Priya1@gmail.com\n",
              "51       shawongazi1357@gmail.com \n",
              "284                suvra@gmail.com\n",
              "Name: Your Email id, Length: 62, dtype: object"
            ]
          },
          "metadata": {},
          "execution_count": 26
        }
      ]
    },
    {
      "cell_type": "code",
      "metadata": {
        "id": "DeVAMZMag1yw"
      },
      "source": [
        "from sklearn.naive_bayes import  MultinomialNB"
      ],
      "execution_count": null,
      "outputs": []
    },
    {
      "cell_type": "code",
      "metadata": {
        "colab": {
          "base_uri": "https://localhost:8080/"
        },
        "id": "0TQuS1I5GRgN",
        "outputId": "ec34cb46-0406-46ac-f4de-d85e24b4aab5"
      },
      "source": [
        " import numpy as np\n",
        " rng = np.random.RandomState(1)\n",
        " x_train = rng.randint(5, size=(6, 100))\n",
        " y_train = np.array([1, 2, 3, 4, 5, 6])\n",
        " from sklearn.naive_bayes import MultinomialNB\n",
        " clf = MultinomialNB()\n",
        "clf.fit(x_train, y_train)"
      ],
      "execution_count": null,
      "outputs": [
        {
          "output_type": "execute_result",
          "data": {
            "text/plain": [
              "MultinomialNB(alpha=1.0, class_prior=None, fit_prior=True)"
            ]
          },
          "metadata": {},
          "execution_count": 28
        }
      ]
    },
    {
      "cell_type": "code",
      "metadata": {
        "colab": {
          "base_uri": "https://localhost:8080/"
        },
        "id": "mGFENN3THjiM",
        "outputId": "1595d70c-38cf-472b-bcf3-edc281022916"
      },
      "source": [
        "clf.score(x_train,y_train)"
      ],
      "execution_count": null,
      "outputs": [
        {
          "output_type": "execute_result",
          "data": {
            "text/plain": [
              "1.0"
            ]
          },
          "metadata": {},
          "execution_count": 29
        }
      ]
    },
    {
      "cell_type": "code",
      "metadata": {
        "colab": {
          "base_uri": "https://localhost:8080/"
        },
        "id": "Xy1Z-nZuH0XU",
        "outputId": "01b4ca02-4d12-48bc-e166-60fb1a77aba1"
      },
      "source": [
        "print(clf.predict(x_train[2:3]))"
      ],
      "execution_count": null,
      "outputs": [
        {
          "output_type": "stream",
          "name": "stdout",
          "text": [
            "[3]\n"
          ]
        }
      ]
    },
    {
      "cell_type": "code",
      "metadata": {
        "id": "fQOr7lNVV1tX"
      },
      "source": [
        "from sklearn.neighbors import KNeighborsClassifier"
      ],
      "execution_count": null,
      "outputs": []
    },
    {
      "cell_type": "code",
      "metadata": {
        "colab": {
          "base_uri": "https://localhost:8080/"
        },
        "id": "BoKOToRUWAaH",
        "outputId": "d8d25088-791b-46bf-8bf6-19a39f810ccc"
      },
      "source": [
        "k = KNeighborsClassifier()\n",
        "k.fit(x_train,y_train)"
      ],
      "execution_count": null,
      "outputs": [
        {
          "output_type": "execute_result",
          "data": {
            "text/plain": [
              "KNeighborsClassifier(algorithm='auto', leaf_size=30, metric='minkowski',\n",
              "                     metric_params=None, n_jobs=None, n_neighbors=5, p=2,\n",
              "                     weights='uniform')"
            ]
          },
          "metadata": {},
          "execution_count": 33
        }
      ]
    },
    {
      "cell_type": "code",
      "metadata": {
        "colab": {
          "base_uri": "https://localhost:8080/"
        },
        "id": "Zcu1Uj4lWGub",
        "outputId": "2729775c-4c60-456d-b789-b6eb0ed55eb5"
      },
      "source": [
        "k.score(x_train,y_train)"
      ],
      "execution_count": null,
      "outputs": [
        {
          "output_type": "execute_result",
          "data": {
            "text/plain": [
              "0.16666666666666666"
            ]
          },
          "metadata": {},
          "execution_count": 34
        }
      ]
    },
    {
      "cell_type": "code",
      "metadata": {
        "id": "yJnKLaYXXE4e"
      },
      "source": [
        "from sklearn.naive_bayes import GaussianNB"
      ],
      "execution_count": null,
      "outputs": []
    },
    {
      "cell_type": "code",
      "metadata": {
        "colab": {
          "base_uri": "https://localhost:8080/"
        },
        "id": "B1HqvwpoWlhb",
        "outputId": "a0801117-cdda-4aec-e679-7882d96c65db"
      },
      "source": [
        "n = GaussianNB()\n",
        "n.fit(x_train,y_train)"
      ],
      "execution_count": null,
      "outputs": [
        {
          "output_type": "execute_result",
          "data": {
            "text/plain": [
              "GaussianNB(priors=None, var_smoothing=1e-09)"
            ]
          },
          "metadata": {},
          "execution_count": 39
        }
      ]
    },
    {
      "cell_type": "code",
      "metadata": {
        "colab": {
          "base_uri": "https://localhost:8080/"
        },
        "id": "TOrANf2QXTZi",
        "outputId": "bd1afad4-3256-4cc7-8a54-d2235087d38d"
      },
      "source": [
        "n.score(x_train,y_train)"
      ],
      "execution_count": null,
      "outputs": [
        {
          "output_type": "execute_result",
          "data": {
            "text/plain": [
              "1.0"
            ]
          },
          "metadata": {},
          "execution_count": 40
        }
      ]
    },
    {
      "cell_type": "code",
      "metadata": {
        "id": "3COLcZfGX18b"
      },
      "source": [
        "cm_algorithms_name =[]\n",
        "true_positive = []\n",
        "false_negative = []\n",
        "false_positive = []\n",
        "true_negative = []"
      ],
      "execution_count": null,
      "outputs": []
    },
    {
      "cell_type": "code",
      "metadata": {
        "id": "iwYwFkZrX9-s"
      },
      "source": [
        "algorithm_name = []\n"
      ],
      "execution_count": null,
      "outputs": []
    },
    {
      "cell_type": "code",
      "metadata": {
        "id": "P0i9JfVuXX3R"
      },
      "source": [
        "algorithm_name.append('Naive Bayes')\n",
        "\n",
        "\n"
      ],
      "execution_count": null,
      "outputs": []
    },
    {
      "cell_type": "code",
      "metadata": {
        "id": "P9Pl7ohKYbCA"
      },
      "source": [
        "from sklearn.tree import DecisionTreeClassifier"
      ],
      "execution_count": null,
      "outputs": []
    },
    {
      "cell_type": "code",
      "metadata": {
        "colab": {
          "base_uri": "https://localhost:8080/"
        },
        "id": "ORcb5B0QYcp1",
        "outputId": "26c2aaa9-32d0-4878-8fae-f724042fac78"
      },
      "source": [
        "d = DecisionTreeClassifier()\n",
        "d.fit(x_train,y_train)"
      ],
      "execution_count": null,
      "outputs": [
        {
          "output_type": "execute_result",
          "data": {
            "text/plain": [
              "DecisionTreeClassifier(ccp_alpha=0.0, class_weight=None, criterion='gini',\n",
              "                       max_depth=None, max_features=None, max_leaf_nodes=None,\n",
              "                       min_impurity_decrease=0.0, min_impurity_split=None,\n",
              "                       min_samples_leaf=1, min_samples_split=2,\n",
              "                       min_weight_fraction_leaf=0.0, presort='deprecated',\n",
              "                       random_state=None, splitter='best')"
            ]
          },
          "metadata": {},
          "execution_count": 53
        }
      ]
    },
    {
      "cell_type": "code",
      "metadata": {
        "colab": {
          "base_uri": "https://localhost:8080/"
        },
        "id": "mxnSkhBrYiO2",
        "outputId": "55654cfd-19ae-46a9-83ef-12f4c79435ed"
      },
      "source": [
        "d.score(x_train,y_train)"
      ],
      "execution_count": null,
      "outputs": [
        {
          "output_type": "execute_result",
          "data": {
            "text/plain": [
              "1.0"
            ]
          },
          "metadata": {},
          "execution_count": 54
        }
      ]
    },
    {
      "cell_type": "code",
      "metadata": {
        "id": "3ja36jqAZaHu"
      },
      "source": [
        "algorithm_name.append('Decision Tree')"
      ],
      "execution_count": null,
      "outputs": []
    },
    {
      "cell_type": "code",
      "metadata": {
        "id": "71tqvzrZYm88"
      },
      "source": [
        "from sklearn.ensemble import RandomForestClassifier"
      ],
      "execution_count": null,
      "outputs": []
    },
    {
      "cell_type": "code",
      "metadata": {
        "colab": {
          "base_uri": "https://localhost:8080/"
        },
        "id": "Z13FM44WYtmD",
        "outputId": "f514bb05-f2b3-4219-b93c-65fbd5704a78"
      },
      "source": [
        "f = RandomForestClassifier()\n",
        "f.fit(x_train,y_train)\n"
      ],
      "execution_count": null,
      "outputs": [
        {
          "output_type": "execute_result",
          "data": {
            "text/plain": [
              "RandomForestClassifier(bootstrap=True, ccp_alpha=0.0, class_weight=None,\n",
              "                       criterion='gini', max_depth=None, max_features='auto',\n",
              "                       max_leaf_nodes=None, max_samples=None,\n",
              "                       min_impurity_decrease=0.0, min_impurity_split=None,\n",
              "                       min_samples_leaf=1, min_samples_split=2,\n",
              "                       min_weight_fraction_leaf=0.0, n_estimators=100,\n",
              "                       n_jobs=None, oob_score=False, random_state=None,\n",
              "                       verbose=0, warm_start=False)"
            ]
          },
          "metadata": {},
          "execution_count": 57
        }
      ]
    },
    {
      "cell_type": "code",
      "metadata": {
        "colab": {
          "base_uri": "https://localhost:8080/"
        },
        "id": "pzJrmQ7zY-pD",
        "outputId": "bb35c35d-f2d7-42b5-ca9a-6d54de561b36"
      },
      "source": [
        "\n",
        "f.score(x_train,y_train)"
      ],
      "execution_count": null,
      "outputs": [
        {
          "output_type": "execute_result",
          "data": {
            "text/plain": [
              "1.0"
            ]
          },
          "metadata": {},
          "execution_count": 58
        }
      ]
    },
    {
      "cell_type": "code",
      "metadata": {
        "id": "LLSI-d9XZlx4",
        "colab": {
          "base_uri": "https://localhost:8080/",
          "height": 166
        },
        "outputId": "c2afe6da-f82a-464e-fa83-7d1ebbc682c9"
      },
      "source": [
        "algorithm_name.append('Random Forest')"
      ],
      "execution_count": null,
      "outputs": [
        {
          "output_type": "error",
          "ename": "NameError",
          "evalue": "ignored",
          "traceback": [
            "\u001b[0;31m---------------------------------------------------------------------------\u001b[0m",
            "\u001b[0;31mNameError\u001b[0m                                 Traceback (most recent call last)",
            "\u001b[0;32m<ipython-input-1-8594a74e54ff>\u001b[0m in \u001b[0;36m<module>\u001b[0;34m()\u001b[0m\n\u001b[0;32m----> 1\u001b[0;31m \u001b[0malgorithm_name\u001b[0m\u001b[0;34m.\u001b[0m\u001b[0mappend\u001b[0m\u001b[0;34m(\u001b[0m\u001b[0;34m'Random Forest'\u001b[0m\u001b[0;34m)\u001b[0m\u001b[0;34m\u001b[0m\u001b[0;34m\u001b[0m\u001b[0m\n\u001b[0m",
            "\u001b[0;31mNameError\u001b[0m: name 'algorithm_name' is not defined"
          ]
        }
      ]
    }
  ]
}